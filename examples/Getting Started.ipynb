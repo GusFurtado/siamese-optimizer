{
 "cells": [
  {
   "cell_type": "markdown",
   "metadata": {},
   "source": [
    "# Getting Started\n",
    "\n",
    "In this notebook, we're going to explore all basic features of the `siamese` package.\n",
    "\n",
    "For mode informations, check the main repository at https://github.com/GusFurtado/siamese-optimizer."
   ]
  },
  {
   "cell_type": "markdown",
   "metadata": {},
   "source": [
    "### Importing the package\n",
    "\n",
    "Let's start by importing the basic objects. A line is made up by:\n",
    "- The `Source` object that creates entities;\n",
    "- The `Machine` object that processes/holds entities;\n",
    "- The `Buffer` object that stores entities in-between machines;\n",
    "- And the `Line` object that wraps everything."
   ]
  },
  {
   "cell_type": "code",
   "execution_count": 1,
   "metadata": {},
   "outputs": [],
   "source": [
    "from siamese import (\n",
    "    Source,\n",
    "    Buffer,\n",
    "    Machine,\n",
    "    Line\n",
    ")"
   ]
  },
  {
   "cell_type": "markdown",
   "metadata": {},
   "source": [
    "Also important are some of the support objects.\n",
    "\n",
    "Instead of simulating constant values, we can work with random statistics distributions by importing the `distributions` submodule.\n",
    "\n",
    "There are currently 10 distinct distributions available. Let's import some of them:"
   ]
  },
  {
   "cell_type": "code",
   "execution_count": 2,
   "metadata": {},
   "outputs": [],
   "source": [
    "from siamese.distributions import (\n",
    "    Exponential,\n",
    "    Triangular,\n",
    "    Gamma,\n",
    "    Uniform\n",
    ")"
   ]
  },
  {
   "cell_type": "markdown",
   "metadata": {},
   "source": [
    "And the `failure` submodule contains the objects that defines a `Model` failure behavior.\n",
    "\n",
    "- `TimeFailure`: Breaks a `Model` after some time.\n",
    "- `CountFailure`: Break a `Model` after a number of entities is processed *(Not yet implemented)*."
   ]
  },
  {
   "cell_type": "code",
   "execution_count": 3,
   "metadata": {},
   "outputs": [],
   "source": [
    "from siamese.failures import TimeFailure"
   ]
  },
  {
   "cell_type": "markdown",
   "metadata": {},
   "source": [
    "### Creating the source\n",
    "\n",
    "In this step, we'll create every component of out line.\n",
    "\n",
    "Let's start with the `Source`. Give it a distinct name and set its processing time, output buffer and failure behavior.\n",
    "\n",
    "- `processing_time`: The time it takes to create a new entity.\n",
    "- `output_buffer`: Name of the buffer the new entity will be stored.\n",
    "- `failure`: How often the `Model` breaks and how long it takes to fix it."
   ]
  },
  {
   "cell_type": "code",
   "execution_count": 4,
   "metadata": {},
   "outputs": [],
   "source": [
    "our_source = Source(\n",
    "    name = 'our_source',\n",
    "    processing_time = Exponential(mean=10, min=5),\n",
    "    output_buffer = 'buffer1',\n",
    "    failure = TimeFailure(\n",
    "        time_between_failures = Gamma(shape=2, scale=10),\n",
    "        time_to_repair = Gamma(shape=3, scale=2)\n",
    "    )\n",
    ")"
   ]
  },
  {
   "cell_type": "markdown",
   "metadata": {},
   "source": [
    "**Notes:**\n",
    "\n",
    "We can use the distributions to set the value of the `processing_time`, `time_between_failures` and `time_to_repair`.\n",
    "\n",
    "There are only a couple rules you need to follow when naming your `Model`:\n",
    "- The `name` must be distinct from any other object `name`;\n",
    "- No special characters. This `name` will be set as an attribute of the `Model`.\n"
   ]
  },
  {
   "cell_type": "markdown",
   "metadata": {},
   "source": [
    "### Creating the machines\n",
    "\n",
    "Let's add two machines to out line.\n",
    "\n",
    "`Machines` follow the same rules of `Sources`, but they have and extra argument: `input_buffer`. This is the place where our machines will get their entities to be processed."
   ]
  },
  {
   "cell_type": "code",
   "execution_count": 5,
   "metadata": {},
   "outputs": [],
   "source": [
    "first_machine = Machine(\n",
    "    name = 'first_machine',\n",
    "    processing_time = Triangular(min=5, mode=10, max=15),\n",
    "    input_buffer = 'buffer1',\n",
    "    output_buffer = 'buffer2',\n",
    "    failure = TimeFailure(\n",
    "        time_between_failures = Gamma(shape=1, scale=30),\n",
    "        time_to_repair = Gamma(shape=1, scale=15)\n",
    "    )\n",
    ")\n",
    "\n",
    "second_machine = Machine(\n",
    "    name = 'second_machine',\n",
    "    processing_time = Triangular(min=1, mode=11, max=25),\n",
    "    input_buffer = 'buffer2',\n",
    "    output_buffer = 'sink',\n",
    "    failure = TimeFailure(\n",
    "        time_between_failures = Uniform(min=5, max=10),\n",
    "        time_to_repair = Uniform(min=1, max=2)\n",
    "    )\n",
    ")"
   ]
  },
  {
   "cell_type": "markdown",
   "metadata": {},
   "source": [
    "### Creating buffers\n",
    "\n",
    "Now we need to add the buffers between machines. These are the places where the entities will be stored before and after processing.\n",
    "\n",
    "We already reference their names in the previous steps, so make sure these names match."
   ]
  },
  {
   "cell_type": "code",
   "execution_count": 6,
   "metadata": {},
   "outputs": [],
   "source": [
    "buffer1 = Buffer(\n",
    "    name = 'buffer1',\n",
    "    capacity = 20\n",
    ")\n",
    "\n",
    "buffer2 = Buffer(\n",
    "    name = 'buffer2',\n",
    "    capacity = 20\n",
    ")\n",
    "\n",
    "sink = Buffer(\n",
    "    name = 'sink',\n",
    "    capacity = 200\n",
    ")"
   ]
  },
  {
   "cell_type": "markdown",
   "metadata": {},
   "source": [
    "The `capacity` argument is the maximum amount of entities that can be held at once in this object."
   ]
  },
  {
   "cell_type": "markdown",
   "metadata": {},
   "source": [
    "### Wrapping everything up in a line\n",
    "\n",
    "After creating our `Models`, we need to feed them to a `Line` object. No shenanigans, just dump them in the `*args`."
   ]
  },
  {
   "cell_type": "code",
   "execution_count": 7,
   "metadata": {},
   "outputs": [],
   "source": [
    "line = Line(\n",
    "    our_source,\n",
    "    first_machine,\n",
    "    second_machine,\n",
    "    buffer1,\n",
    "    buffer2\n",
    ")"
   ]
  },
  {
   "cell_type": "markdown",
   "metadata": {},
   "source": [
    "Alternatively, use the method `add_model`."
   ]
  },
  {
   "cell_type": "code",
   "execution_count": 8,
   "metadata": {},
   "outputs": [],
   "source": [
    "line.add_model(\n",
    "    model = sink\n",
    ")"
   ]
  },
  {
   "cell_type": "markdown",
   "metadata": {},
   "source": [
    "And let's take a look at our gourgeous completed production line."
   ]
  },
  {
   "cell_type": "code",
   "execution_count": 9,
   "metadata": {},
   "outputs": [
    {
     "name": "stdout",
     "output_type": "stream",
     "text": [
      "Legend\n",
      "------\n",
      "(1) our_source\n",
      "(2) first_machine\n",
      "(3) second_machine\n",
      "(4) buffer1\n",
      "(5) buffer2\n",
      "(6) sink\n"
     ]
    },
    {
     "data": {
      "image/png": "[encoded data removed]",
      "text/plain": [
       "<Figure size 432x288 with 1 Axes>"
      ]
     },
     "metadata": {},
     "output_type": "display_data"
    }
   ],
   "source": [
    "line.plot(seed=1)"
   ]
  },
  {
   "cell_type": "markdown",
   "metadata": {},
   "source": [
    "### Simulation and report\n",
    "\n",
    "Simply run the `simulate` method, setting the simulation run time.\n",
    "\n",
    "This method generates the simulation report at the `report` property."
   ]
  },
  {
   "cell_type": "code",
   "execution_count": 10,
   "metadata": {},
   "outputs": [
    {
     "data": {
      "text/html": [
       "<table>\n",
       "            <thead>\n",
       "                <th colspan=\"3\">our_source report</th>\n",
       "            </thead>\n",
       "            <tbody>\n",
       "                <tr>\n",
       "                    <td>Model type</td>\n",
       "                    <td>Source</td>\n",
       "                    <td></td>\n",
       "                </tr>\n",
       "                <tr>\n",
       "                    <td>Items processed</td>\n",
       "                    <td>54</td>\n",
       "                    <td></td>\n",
       "                </tr>\n",
       "                <tr>\n",
       "                    <td>Time processing</td>\n",
       "                    <td>767.59</td>\n",
       "                    <td>76.34%</td>\n",
       "                </tr>\n",
       "                <tr>\n",
       "                    <td>Time blocked</td>\n",
       "                    <td>0.00</td>\n",
       "                    <td>0.00%</td>\n",
       "                </tr>\n",
       "                <tr>\n",
       "                    <td>Time broken</td>\n",
       "                    <td>237.96</td>\n",
       "                    <td>23.66%</td>\n",
       "                </tr>\n",
       "            </tbody>\n",
       "        </table><br><table>\n",
       "            <thead>\n",
       "                <th colspan=\"3\">first_machine report</th>\n",
       "            </thead>\n",
       "            <tbody>\n",
       "                <tr>\n",
       "                    <td>Model type</td>\n",
       "                    <td>Machine</td>\n",
       "                    <td></td>\n",
       "                </tr>\n",
       "                <tr>\n",
       "                    <td>Items processed</td>\n",
       "                    <td>51</td>\n",
       "                    <td></td>\n",
       "                </tr>\n",
       "                <tr>\n",
       "                    <td>Time starved</td>\n",
       "                    <td>8.07</td>\n",
       "                    <td>0.81%</td>\n",
       "                </tr>\n",
       "                <tr>\n",
       "                    <td>Time processing</td>\n",
       "                    <td>644.82</td>\n",
       "                    <td>64.48%</td>\n",
       "                </tr>\n",
       "                <tr>\n",
       "                    <td>Time blocked</td>\n",
       "                    <td>0.00</td>\n",
       "                    <td>0.00%</td>\n",
       "                </tr>\n",
       "                <tr>\n",
       "                    <td>Time broken</td>\n",
       "                    <td>347.11</td>\n",
       "                    <td>34.71%</td>\n",
       "                </tr>\n",
       "            </tbody>\n",
       "        </table><br><table>\n",
       "            <thead>\n",
       "                <th colspan=\"3\">second_machine report</th>\n",
       "            </thead>\n",
       "            <tbody>\n",
       "                <tr>\n",
       "                    <td>Model type</td>\n",
       "                    <td>Machine</td>\n",
       "                    <td></td>\n",
       "                </tr>\n",
       "                <tr>\n",
       "                    <td>Items processed</td>\n",
       "                    <td>0</td>\n",
       "                    <td></td>\n",
       "                </tr>\n",
       "                <tr>\n",
       "                    <td>Time starved</td>\n",
       "                    <td>828.58</td>\n",
       "                    <td>82.86%</td>\n",
       "                </tr>\n",
       "                <tr>\n",
       "                    <td>Time processing</td>\n",
       "                    <td>0.00</td>\n",
       "                    <td>0.00%</td>\n",
       "                </tr>\n",
       "                <tr>\n",
       "                    <td>Time blocked</td>\n",
       "                    <td>0.00</td>\n",
       "                    <td>0.00%</td>\n",
       "                </tr>\n",
       "                <tr>\n",
       "                    <td>Time broken</td>\n",
       "                    <td>171.42</td>\n",
       "                    <td>17.14%</td>\n",
       "                </tr>\n",
       "            </tbody>\n",
       "        </table>"
      ],
      "text/plain": [
       "\n",
       "        our_source report\n",
       "        -----------------\n",
       "        Model type       :  Source\n",
       "        Items processed  :  54\n",
       "        Time processing  :  767.59 (76.34%)\n",
       "        Time blocked     :  0.00 (0.00%)\n",
       "        Time broken      :  237.96 (23.66%)\n",
       "        \n",
       "        first_machine report\n",
       "        --------------------\n",
       "        Model type       :  Machine\n",
       "        Items processed  :  51\n",
       "        Time starved     :  8.07 (0.81%)\n",
       "        Time processing  :  644.82 (64.48%)\n",
       "        Time blocked     :  0.00 (0.00%)\n",
       "        Time broken      :  347.11 (34.71%)\n",
       "        \n",
       "        second_machine report\n",
       "        ---------------------\n",
       "        Model type       :  Machine\n",
       "        Items processed  :  0\n",
       "        Time starved     :  828.58 (82.86%)\n",
       "        Time processing  :  0.00 (0.00%)\n",
       "        Time blocked     :  0.00 (0.00%)\n",
       "        Time broken      :  171.42 (17.14%)\n",
       "        "
      ]
     },
     "execution_count": 10,
     "metadata": {},
     "output_type": "execute_result"
    }
   ],
   "source": [
    "line.simulate(time=1000)\n",
    "line.report"
   ]
  },
  {
   "cell_type": "markdown",
   "metadata": {},
   "source": [
    "The `Line`'s `report` is made up of each of its `Model`'s `report`. You can access them individually.\n",
    "\n",
    "Notice that the `Model` name is now an attribute of the `Line`."
   ]
  },
  {
   "cell_type": "code",
   "execution_count": 11,
   "metadata": {},
   "outputs": [
    {
     "data": {
      "text/html": [
       "<table>\n",
       "            <thead>\n",
       "                <th colspan=\"3\">our_source report</th>\n",
       "            </thead>\n",
       "            <tbody>\n",
       "                <tr>\n",
       "                    <td>Model type</td>\n",
       "                    <td>Source</td>\n",
       "                    <td></td>\n",
       "                </tr>\n",
       "                <tr>\n",
       "                    <td>Items processed</td>\n",
       "                    <td>54</td>\n",
       "                    <td></td>\n",
       "                </tr>\n",
       "                <tr>\n",
       "                    <td>Time processing</td>\n",
       "                    <td>767.59</td>\n",
       "                    <td>76.34%</td>\n",
       "                </tr>\n",
       "                <tr>\n",
       "                    <td>Time blocked</td>\n",
       "                    <td>0.00</td>\n",
       "                    <td>0.00%</td>\n",
       "                </tr>\n",
       "                <tr>\n",
       "                    <td>Time broken</td>\n",
       "                    <td>237.96</td>\n",
       "                    <td>23.66%</td>\n",
       "                </tr>\n",
       "            </tbody>\n",
       "        </table>"
      ],
      "text/plain": [
       "\n",
       "        our_source report\n",
       "        -----------------\n",
       "        Model type       :  Source\n",
       "        Items processed  :  54\n",
       "        Time processing  :  767.59 (76.34%)\n",
       "        Time blocked     :  0.00 (0.00%)\n",
       "        Time broken      :  237.96 (23.66%)\n",
       "        "
      ]
     },
     "execution_count": 11,
     "metadata": {},
     "output_type": "execute_result"
    }
   ],
   "source": [
    "line.our_source.report"
   ]
  },
  {
   "cell_type": "markdown",
   "metadata": {},
   "source": [
    "Some examples of properties generated after the simulation:"
   ]
  },
  {
   "cell_type": "code",
   "execution_count": 12,
   "metadata": {},
   "outputs": [
    {
     "data": {
      "text/plain": [
       "51"
      ]
     },
     "execution_count": 12,
     "metadata": {},
     "output_type": "execute_result"
    }
   ],
   "source": [
    "line.first_machine.items_processed"
   ]
  },
  {
   "cell_type": "code",
   "execution_count": 13,
   "metadata": {},
   "outputs": [
    {
     "data": {
      "text/plain": [
       "2"
      ]
     },
     "execution_count": 13,
     "metadata": {},
     "output_type": "execute_result"
    }
   ],
   "source": [
    "line.buffer1.content"
   ]
  },
  {
   "cell_type": "code",
   "execution_count": 14,
   "metadata": {},
   "outputs": [
    {
     "data": {
      "text/plain": [
       "'sink'"
      ]
     },
     "execution_count": 14,
     "metadata": {},
     "output_type": "execute_result"
    }
   ],
   "source": [
    "line.second_machine.output_buffer"
   ]
  },
  {
   "cell_type": "code",
   "execution_count": 15,
   "metadata": {},
   "outputs": [
    {
     "data": {
      "text/plain": [
       "Exponential(mean=10, min=5)"
      ]
     },
     "execution_count": 15,
     "metadata": {},
     "output_type": "execute_result"
    }
   ],
   "source": [
    "line.our_source.processing_time"
   ]
  },
  {
   "cell_type": "markdown",
   "metadata": {},
   "source": [
    "Deep dive into some of their stats\n",
    "\n",
    "- `Line`\n",
    "    - `Model`\n",
    "        - `Stats`\n",
    "            - `total`\n",
    "            - `values`\n",
    "            - `len`\n",
    "            - `max`\n",
    "            - `min`\n",
    "            - `mean`\n",
    "            - `percentile()`\n",
    "            - `histogram()`\n",
    "            - `boxplot()`"
   ]
  },
  {
   "cell_type": "code",
   "execution_count": 16,
   "metadata": {},
   "outputs": [
    {
     "data": {
      "text/plain": [
       "Stats(total=8.067516695471241, values=[8.067516695471241])"
      ]
     },
     "execution_count": 16,
     "metadata": {},
     "output_type": "execute_result"
    }
   ],
   "source": [
    "line.first_machine.time_starved"
   ]
  },
  {
   "cell_type": "code",
   "execution_count": 17,
   "metadata": {},
   "outputs": [
    {
     "data": {
      "text/plain": [
       "8.067516695471241"
      ]
     },
     "execution_count": 17,
     "metadata": {},
     "output_type": "execute_result"
    }
   ],
   "source": [
    "line.first_machine.time_starved.max"
   ]
  },
  {
   "cell_type": "code",
   "execution_count": 18,
   "metadata": {},
   "outputs": [
    {
     "data": {
      "text/plain": [
       "5.045025356070351"
      ]
     },
     "execution_count": 18,
     "metadata": {},
     "output_type": "execute_result"
    }
   ],
   "source": [
    "line.our_source.time_processing.percentile(0.5)"
   ]
  },
  {
   "cell_type": "code",
   "execution_count": null,
   "metadata": {},
   "outputs": [],
   "source": []
  }
 ],
 "metadata": {
  "kernelspec": {
   "display_name": "Python 3.7.7 ('base')",
   "language": "python",
   "name": "python3"
  },
  "language_info": {
   "codemirror_mode": {
    "name": "ipython",
    "version": 3
   },
   "file_extension": ".py",
   "mimetype": "text/x-python",
   "name": "python",
   "nbconvert_exporter": "python",
   "pygments_lexer": "ipython3",
   "version": "3.7.7"
  },
  "orig_nbformat": 4,
  "vscode": {
   "interpreter": {
    "hash": "ad2bdc8ecc057115af97d19610ffacc2b4e99fae6737bb82f5d7fb13d2f2c186"
   }
  }
 },
 "nbformat": 4,
 "nbformat_minor": 2
}
